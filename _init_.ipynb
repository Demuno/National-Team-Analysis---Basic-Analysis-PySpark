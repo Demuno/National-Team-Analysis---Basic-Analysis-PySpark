{
 "cells": [
  {
   "cell_type": "code",
   "execution_count": 8,
   "id": "8449b5fd-3e81-44be-8341-d83480a6062a",
   "metadata": {},
   "outputs": [],
   "source": [
    "import os\n",
    "from pyspark import SparkConf, SparkContext\n",
    "from pyspark.sql import SparkSession\n",
    "from pyspark.sql.functions import *"
   ]
  },
  {
   "cell_type": "code",
   "execution_count": 9,
   "id": "8e05851a-6d25-4f9a-81b6-6cfbb18c5298",
   "metadata": {
    "scrolled": true
   },
   "outputs": [],
   "source": [
    "os.environ['JAVA_HOME'] = 'C:/Program Files/Java/jdk-21'\n",
    "os.environ['SPARK_HOME'] = 'C:/Users/mateu/Downloads/spark-3.5.1-bin-hadoop3'\n",
    "os.environ['PATH'] = os.environ['SPARK_HOME'] + '/bin;' + os.environ['PATH']"
   ]
  },
  {
   "cell_type": "code",
   "execution_count": 10,
   "id": "5b238d3e-29dc-4f15-9f30-f9d5db3470bd",
   "metadata": {},
   "outputs": [],
   "source": [
    "spark = SparkSession.builder.config(\"spark.driver.host\", \"localhost\").appName('MDB').getOrCreate()"
   ]
  },
  {
   "cell_type": "code",
   "execution_count": 11,
   "id": "c63869e5-4021-447d-be48-0075b6f00217",
   "metadata": {},
   "outputs": [],
   "source": [
    "# spark.stop()"
   ]
  },
  {
   "cell_type": "code",
   "execution_count": 12,
   "id": "76c6a9e7-3933-4a47-a245-20beb3ff393a",
   "metadata": {},
   "outputs": [],
   "source": [
    "df = spark.read.csv('C:/Users/mateu/Documents/Projects/DataScience/Analyse/wc2018-players.csv', header=True, inferSchema=True)"
   ]
  },
  {
   "cell_type": "code",
   "execution_count": 13,
   "id": "1f3d4da9-205f-4fbd-a932-812fbdfa9ff5",
   "metadata": {},
   "outputs": [
    {
     "name": "stdout",
     "output_type": "stream",
     "text": [
      "+---------+---+----+------------------+----------+----------+--------------------+------+------+\n",
      "|     Team|  #|Pos.| FIFA Popular Name|Birth Date|Shirt Name|                Club|Height|Weight|\n",
      "+---------+---+----+------------------+----------+----------+--------------------+------+------+\n",
      "|Argentina|  3|  DF|TAGLIAFICO Nicolas|31.08.1992|TAGLIAFICO|      AFC Ajax (NED)|   169|    65|\n",
      "|Argentina| 22|  MF|    PAVON Cristian|21.01.1996|     PAVÓN|CA Boca Juniors (...|   169|    65|\n",
      "|Argentina| 15|  MF|    LANZINI Manuel|15.02.1993|   LANZINI|West Ham United F...|   167|    66|\n",
      "|Argentina| 18|  DF|    SALVIO Eduardo|13.07.1990|    SALVIO|    SL Benfica (POR)|   167|    69|\n",
      "|Argentina| 10|  FW|      MESSI Lionel|24.06.1987|     MESSI|  FC Barcelona (ESP)|   170|    72|\n",
      "+---------+---+----+------------------+----------+----------+--------------------+------+------+\n",
      "only showing top 5 rows\n",
      "\n"
     ]
    }
   ],
   "source": [
    "df.show(5)"
   ]
  },
  {
   "cell_type": "code",
   "execution_count": 14,
   "id": "2b292cb9-a15d-4d94-bd92-0d3025a554e8",
   "metadata": {},
   "outputs": [
    {
     "data": {
      "text/html": [
       "<div>\n",
       "<style scoped>\n",
       "    .dataframe tbody tr th:only-of-type {\n",
       "        vertical-align: middle;\n",
       "    }\n",
       "\n",
       "    .dataframe tbody tr th {\n",
       "        vertical-align: top;\n",
       "    }\n",
       "\n",
       "    .dataframe thead th {\n",
       "        text-align: right;\n",
       "    }\n",
       "</style>\n",
       "<table border=\"1\" class=\"dataframe\">\n",
       "  <thead>\n",
       "    <tr style=\"text-align: right;\">\n",
       "      <th></th>\n",
       "      <th>Team</th>\n",
       "      <th>#</th>\n",
       "      <th>Pos.</th>\n",
       "      <th>FIFA Popular Name</th>\n",
       "      <th>Birth Date</th>\n",
       "      <th>Shirt Name</th>\n",
       "      <th>Club</th>\n",
       "      <th>Height</th>\n",
       "      <th>Weight</th>\n",
       "    </tr>\n",
       "  </thead>\n",
       "  <tbody>\n",
       "    <tr>\n",
       "      <th>0</th>\n",
       "      <td>Argentina</td>\n",
       "      <td>3</td>\n",
       "      <td>DF</td>\n",
       "      <td>TAGLIAFICO Nicolas</td>\n",
       "      <td>31.08.1992</td>\n",
       "      <td>TAGLIAFICO</td>\n",
       "      <td>AFC Ajax (NED)</td>\n",
       "      <td>169</td>\n",
       "      <td>65</td>\n",
       "    </tr>\n",
       "    <tr>\n",
       "      <th>1</th>\n",
       "      <td>Argentina</td>\n",
       "      <td>22</td>\n",
       "      <td>MF</td>\n",
       "      <td>PAVON Cristian</td>\n",
       "      <td>21.01.1996</td>\n",
       "      <td>PAVÓN</td>\n",
       "      <td>CA Boca Juniors (ARG)</td>\n",
       "      <td>169</td>\n",
       "      <td>65</td>\n",
       "    </tr>\n",
       "    <tr>\n",
       "      <th>2</th>\n",
       "      <td>Argentina</td>\n",
       "      <td>15</td>\n",
       "      <td>MF</td>\n",
       "      <td>LANZINI Manuel</td>\n",
       "      <td>15.02.1993</td>\n",
       "      <td>LANZINI</td>\n",
       "      <td>West Ham United FC (ENG)</td>\n",
       "      <td>167</td>\n",
       "      <td>66</td>\n",
       "    </tr>\n",
       "    <tr>\n",
       "      <th>3</th>\n",
       "      <td>Argentina</td>\n",
       "      <td>18</td>\n",
       "      <td>DF</td>\n",
       "      <td>SALVIO Eduardo</td>\n",
       "      <td>13.07.1990</td>\n",
       "      <td>SALVIO</td>\n",
       "      <td>SL Benfica (POR)</td>\n",
       "      <td>167</td>\n",
       "      <td>69</td>\n",
       "    </tr>\n",
       "    <tr>\n",
       "      <th>4</th>\n",
       "      <td>Argentina</td>\n",
       "      <td>10</td>\n",
       "      <td>FW</td>\n",
       "      <td>MESSI Lionel</td>\n",
       "      <td>24.06.1987</td>\n",
       "      <td>MESSI</td>\n",
       "      <td>FC Barcelona (ESP)</td>\n",
       "      <td>170</td>\n",
       "      <td>72</td>\n",
       "    </tr>\n",
       "    <tr>\n",
       "      <th>...</th>\n",
       "      <td>...</td>\n",
       "      <td>...</td>\n",
       "      <td>...</td>\n",
       "      <td>...</td>\n",
       "      <td>...</td>\n",
       "      <td>...</td>\n",
       "      <td>...</td>\n",
       "      <td>...</td>\n",
       "      <td>...</td>\n",
       "    </tr>\n",
       "    <tr>\n",
       "      <th>731</th>\n",
       "      <td>Uruguay</td>\n",
       "      <td>15</td>\n",
       "      <td>MF</td>\n",
       "      <td>VECINO Matias</td>\n",
       "      <td>24.08.1991</td>\n",
       "      <td>VECINO</td>\n",
       "      <td>FC Internazionale (ITA)</td>\n",
       "      <td>189</td>\n",
       "      <td>80</td>\n",
       "    </tr>\n",
       "    <tr>\n",
       "      <th>732</th>\n",
       "      <td>Uruguay</td>\n",
       "      <td>23</td>\n",
       "      <td>GK</td>\n",
       "      <td>SILVA Martin</td>\n",
       "      <td>25.03.1983</td>\n",
       "      <td>M. SILVA</td>\n",
       "      <td>CR Vasco da Gama (BRA)</td>\n",
       "      <td>187</td>\n",
       "      <td>82</td>\n",
       "    </tr>\n",
       "    <tr>\n",
       "      <th>733</th>\n",
       "      <td>Uruguay</td>\n",
       "      <td>9</td>\n",
       "      <td>FW</td>\n",
       "      <td>SUAREZ Luis</td>\n",
       "      <td>24.01.1987</td>\n",
       "      <td>SUAREZ</td>\n",
       "      <td>FC Barcelona (ESP)</td>\n",
       "      <td>182</td>\n",
       "      <td>85</td>\n",
       "    </tr>\n",
       "    <tr>\n",
       "      <th>734</th>\n",
       "      <td>Uruguay</td>\n",
       "      <td>18</td>\n",
       "      <td>FW</td>\n",
       "      <td>GOMEZ Maximiliano</td>\n",
       "      <td>14.08.1996</td>\n",
       "      <td>M. GOMEZ</td>\n",
       "      <td>Celta Vigo (ESP)</td>\n",
       "      <td>186</td>\n",
       "      <td>85</td>\n",
       "    </tr>\n",
       "    <tr>\n",
       "      <th>735</th>\n",
       "      <td>Uruguay</td>\n",
       "      <td>19</td>\n",
       "      <td>DF</td>\n",
       "      <td>COATES Sebastian</td>\n",
       "      <td>07.10.1990</td>\n",
       "      <td>COATES</td>\n",
       "      <td>Sporting CP (POR)</td>\n",
       "      <td>196</td>\n",
       "      <td>89</td>\n",
       "    </tr>\n",
       "  </tbody>\n",
       "</table>\n",
       "<p>736 rows × 9 columns</p>\n",
       "</div>"
      ],
      "text/plain": [
       "          Team   # Pos.   FIFA Popular Name  Birth Date  Shirt Name  \\\n",
       "0    Argentina   3   DF  TAGLIAFICO Nicolas  31.08.1992  TAGLIAFICO   \n",
       "1    Argentina  22   MF      PAVON Cristian  21.01.1996       PAVÓN   \n",
       "2    Argentina  15   MF      LANZINI Manuel  15.02.1993     LANZINI   \n",
       "3    Argentina  18   DF      SALVIO Eduardo  13.07.1990      SALVIO   \n",
       "4    Argentina  10   FW        MESSI Lionel  24.06.1987       MESSI   \n",
       "..         ...  ..  ...                 ...         ...         ...   \n",
       "731    Uruguay  15   MF       VECINO Matias  24.08.1991      VECINO   \n",
       "732    Uruguay  23   GK        SILVA Martin  25.03.1983    M. SILVA   \n",
       "733    Uruguay   9   FW         SUAREZ Luis  24.01.1987      SUAREZ   \n",
       "734    Uruguay  18   FW   GOMEZ Maximiliano  14.08.1996    M. GOMEZ   \n",
       "735    Uruguay  19   DF    COATES Sebastian  07.10.1990      COATES   \n",
       "\n",
       "                         Club  Height  Weight  \n",
       "0              AFC Ajax (NED)     169      65  \n",
       "1       CA Boca Juniors (ARG)     169      65  \n",
       "2    West Ham United FC (ENG)     167      66  \n",
       "3            SL Benfica (POR)     167      69  \n",
       "4          FC Barcelona (ESP)     170      72  \n",
       "..                        ...     ...     ...  \n",
       "731   FC Internazionale (ITA)     189      80  \n",
       "732    CR Vasco da Gama (BRA)     187      82  \n",
       "733        FC Barcelona (ESP)     182      85  \n",
       "734          Celta Vigo (ESP)     186      85  \n",
       "735         Sporting CP (POR)     196      89  \n",
       "\n",
       "[736 rows x 9 columns]"
      ]
     },
     "execution_count": 14,
     "metadata": {},
     "output_type": "execute_result"
    }
   ],
   "source": [
    "df.toPandas()"
   ]
  },
  {
   "cell_type": "code",
   "execution_count": 15,
   "id": "3e02e905-b379-4502-8a72-9106ce1fd159",
   "metadata": {},
   "outputs": [],
   "source": [
    "df = df.withColumnRenamed('Pos.', 'Posicao')"
   ]
  },
  {
   "cell_type": "code",
   "execution_count": 16,
   "id": "b94dbc56-f3c8-408d-bca9-8e45d7c86d3e",
   "metadata": {},
   "outputs": [],
   "source": [
    "df2 = df.select('Team', 'Posicao', 'Club', '#')"
   ]
  },
  {
   "cell_type": "code",
   "execution_count": 17,
   "id": "9e71ee3b-1b07-46ac-adfe-405b2f5b1f2d",
   "metadata": {},
   "outputs": [],
   "source": [
    "df3 = df.select('Birth Date', 'FIFA Popular Name', '#')"
   ]
  },
  {
   "cell_type": "code",
   "execution_count": 18,
   "id": "2f156d69-89ba-4074-9c5b-e08ef1ca82f0",
   "metadata": {
    "scrolled": true
   },
   "outputs": [],
   "source": [
    "df_joined = df2.join(df3, df2['#'] == df3['#'], 'inner')"
   ]
  },
  {
   "cell_type": "code",
   "execution_count": 19,
   "id": "2f9ddc26-83a4-4728-bb10-b138996f42d0",
   "metadata": {},
   "outputs": [],
   "source": [
    "df_fil = df_joined.filter(col('Team') == 'Argentina')"
   ]
  },
  {
   "cell_type": "code",
   "execution_count": 20,
   "id": "d1b51aca-d22e-427e-a08c-adf5766b1240",
   "metadata": {},
   "outputs": [
    {
     "name": "stdout",
     "output_type": "stream",
     "text": [
      "+---------+-------+--------------+---+----------+------------------+---+\n",
      "|     Team|Posicao|          Club|  #|Birth Date| FIFA Popular Name|  #|\n",
      "+---------+-------+--------------+---+----------+------------------+---+\n",
      "|Argentina|     DF|AFC Ajax (NED)|  3|16.02.1986|       GODIN Diego|  3|\n",
      "|Argentina|     DF|AFC Ajax (NED)|  3|28.03.1987| BEN ALOUANE Yohan|  3|\n",
      "|Argentina|     DF|AFC Ajax (NED)|  3|21.06.1990|MOUBANDJE Francois|  3|\n",
      "|Argentina|     DF|AFC Ajax (NED)|  3|17.07.1994|   LINDELOF Victor|  3|\n",
      "|Argentina|     DF|AFC Ajax (NED)|  3|02.02.1987|      PIQUE Gerard|  3|\n",
      "|Argentina|     DF|AFC Ajax (NED)|  3|19.01.1985|       TOSIC Dusko|  3|\n",
      "|Argentina|     DF|AFC Ajax (NED)|  3|20.06.1991| KOULIBALY Kalidou|  3|\n",
      "|Argentina|     DF|AFC Ajax (NED)|  3|31.03.1984|     OSAMA HAWSAWI|  3|\n",
      "|Argentina|     DF|AFC Ajax (NED)|  3|29.07.1993|      KUTEPOV Ilya|  3|\n",
      "|Argentina|     DF|AFC Ajax (NED)|  3|26.02.1983|              PEPE|  3|\n",
      "|Argentina|     DF|AFC Ajax (NED)|  3|04.11.1987| JEDRZEJCZYK Artur|  3|\n",
      "|Argentina|     DF|AFC Ajax (NED)|  3|20.05.1989|        CORZO Aldo|  3|\n",
      "|Argentina|     DF|AFC Ajax (NED)|  3|01.03.1992|   CUMMINGS Harold|  3|\n",
      "|Argentina|     DF|AFC Ajax (NED)|  3|20.01.1988|ECHIEJILE Elderson|  3|\n",
      "|Argentina|     DF|AFC Ajax (NED)|  3|21.10.1997|      MENDYL Hamza|  3|\n",
      "|Argentina|     DF|AFC Ajax (NED)|  3|29.09.1993|    SALCEDO Carlos|  3|\n",
      "|Argentina|     DF|AFC Ajax (NED)|  3|03.04.1994|    JUNG Seunghyun|  3|\n",
      "|Argentina|     DF|AFC Ajax (NED)|  3|11.12.1992|         SHOJI Gen|  3|\n",
      "|Argentina|     DF|AFC Ajax (NED)|  3|25.02.1990|   HAJI SAFI Ehsan|  3|\n",
      "|Argentina|     DF|AFC Ajax (NED)|  3|22.02.1996|FRIDJONSSON Samuel|  3|\n",
      "+---------+-------+--------------+---+----------+------------------+---+\n",
      "only showing top 20 rows\n",
      "\n"
     ]
    }
   ],
   "source": [
    "df_fil.show()"
   ]
  },
  {
   "cell_type": "code",
   "execution_count": 21,
   "id": "8a21cea2-47dc-4ebc-9c40-fd146bb2b66c",
   "metadata": {},
   "outputs": [],
   "source": [
    "df_result = df_fil.toPandas()"
   ]
  },
  {
   "cell_type": "code",
   "execution_count": 22,
   "id": "432679fa-9f62-48ef-99a4-e2f19e88ca61",
   "metadata": {},
   "outputs": [],
   "source": [
    "df_result.to_csv(\"result Analyse.csv\")"
   ]
  }
 ],
 "metadata": {
  "kernelspec": {
   "display_name": "Python 3 (ipykernel)",
   "language": "python",
   "name": "python3"
  },
  "language_info": {
   "codemirror_mode": {
    "name": "ipython",
    "version": 3
   },
   "file_extension": ".py",
   "mimetype": "text/x-python",
   "name": "python",
   "nbconvert_exporter": "python",
   "pygments_lexer": "ipython3",
   "version": "3.11.5"
  }
 },
 "nbformat": 4,
 "nbformat_minor": 5
}
